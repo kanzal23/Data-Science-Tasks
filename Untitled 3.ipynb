{
  "nbformat": 4,
  "nbformat_minor": 0,
  "metadata": {
    "colab": {
      "provenance": []
    },
    "kernelspec": {
      "name": "python3",
      "display_name": "Python 3"
    },
    "language_info": {
      "name": "python"
    }
  },
  "cells": [
    {
      "cell_type": "code",
      "source": [
        "pip install pandas scikit-learn imbalanced-learn\n"
      ],
      "metadata": {
        "colab": {
          "base_uri": "https://localhost:8080/"
        },
        "id": "-hEC3CEck08F",
        "outputId": "a80201ae-11c0-40b9-8323-72af8e3bcb81"
      },
      "execution_count": null,
      "outputs": [
        {
          "output_type": "stream",
          "name": "stdout",
          "text": [
            "Requirement already satisfied: pandas in /usr/local/lib/python3.11/dist-packages (2.2.2)\n",
            "Requirement already satisfied: scikit-learn in /usr/local/lib/python3.11/dist-packages (1.6.1)\n",
            "Requirement already satisfied: imbalanced-learn in /usr/local/lib/python3.11/dist-packages (0.13.0)\n",
            "Requirement already satisfied: numpy>=1.23.2 in /usr/local/lib/python3.11/dist-packages (from pandas) (2.0.2)\n",
            "Requirement already satisfied: python-dateutil>=2.8.2 in /usr/local/lib/python3.11/dist-packages (from pandas) (2.8.2)\n",
            "Requirement already satisfied: pytz>=2020.1 in /usr/local/lib/python3.11/dist-packages (from pandas) (2025.2)\n",
            "Requirement already satisfied: tzdata>=2022.7 in /usr/local/lib/python3.11/dist-packages (from pandas) (2025.2)\n",
            "Requirement already satisfied: scipy>=1.6.0 in /usr/local/lib/python3.11/dist-packages (from scikit-learn) (1.14.1)\n",
            "Requirement already satisfied: joblib>=1.2.0 in /usr/local/lib/python3.11/dist-packages (from scikit-learn) (1.4.2)\n",
            "Requirement already satisfied: threadpoolctl>=3.1.0 in /usr/local/lib/python3.11/dist-packages (from scikit-learn) (3.6.0)\n",
            "Requirement already satisfied: sklearn-compat<1,>=0.1 in /usr/local/lib/python3.11/dist-packages (from imbalanced-learn) (0.1.3)\n",
            "Requirement already satisfied: six>=1.5 in /usr/local/lib/python3.11/dist-packages (from python-dateutil>=2.8.2->pandas) (1.17.0)\n"
          ]
        }
      ]
    },
    {
      "cell_type": "code",
      "source": [
        "import pandas as pd\n",
        "\n",
        "# Load dataset specifying the 'engine' and potential 'encoding'\n",
        "df = pd.read_csv(\"/content/creditcard.csv\", engine='python', encoding='utf-8' )\n",
        "\n",
        "# Basic info\n",
        "print(\"Dataset shape:\", df.shape)\n",
        "print(\"Class distribution:\\n\", df['Class'].value_counts())\n"
      ],
      "metadata": {
        "colab": {
          "base_uri": "https://localhost:8080/"
        },
        "id": "_lGdI_Qlk8lo",
        "outputId": "dc144abe-b536-45f1-95c0-e3d9833cadc8"
      },
      "execution_count": null,
      "outputs": [
        {
          "output_type": "stream",
          "name": "stdout",
          "text": [
            "Dataset shape: (284807, 31)\n",
            "Class distribution:\n",
            " Class\n",
            "0    284315\n",
            "1       492\n",
            "Name: count, dtype: int64\n"
          ]
        }
      ]
    },
    {
      "cell_type": "code",
      "source": [
        "# Separate input features and target\n",
        "X = df.drop(\"Class\", axis=1)\n",
        "y = df[\"Class\"]\n",
        "\n",
        "print(\"Features shape:\", X.shape)\n",
        "print(\"Target shape:\", y.shape)\n"
      ],
      "metadata": {
        "colab": {
          "base_uri": "https://localhost:8080/"
        },
        "id": "AozRtdIGl2SF",
        "outputId": "ac3c2de5-fe9e-4bec-8b5f-1503442a97c1"
      },
      "execution_count": null,
      "outputs": [
        {
          "output_type": "stream",
          "name": "stdout",
          "text": [
            "Features shape: (284807, 30)\n",
            "Target shape: (284807,)\n"
          ]
        }
      ]
    },
    {
      "cell_type": "code",
      "source": [
        "from imblearn.over_sampling import SMOTE\n",
        "\n",
        "# Initialize SMOTE\n",
        "sm = SMOTE(random_state=42)\n",
        "\n",
        "# Resample the data\n",
        "X_res, y_res = sm.fit_resample(X, y)\n",
        "\n",
        "# Check new class distribution\n",
        "print(\"After SMOTE:\")\n",
        "print(\"Resampled features shape:\", X_res.shape)\n",
        "print(\"Resampled target distribution:\\n\", y_res.value_counts())\n"
      ],
      "metadata": {
        "colab": {
          "base_uri": "https://localhost:8080/"
        },
        "id": "MloOkObkl_OZ",
        "outputId": "991ef51e-9249-4a57-961b-a31a58f5a52d"
      },
      "execution_count": null,
      "outputs": [
        {
          "output_type": "stream",
          "name": "stdout",
          "text": [
            "After SMOTE:\n",
            "Resampled features shape: (568630, 30)\n",
            "Resampled target distribution:\n",
            " Class\n",
            "0    284315\n",
            "1    284315\n",
            "Name: count, dtype: int64\n"
          ]
        }
      ]
    },
    {
      "cell_type": "code",
      "source": [
        "# Sample 50,000 rows from the resampled data\n",
        "X_sample = X_res.sample(n=50000, random_state=42)\n",
        "y_sample = y_res.loc[X_sample.index]\n",
        "\n",
        "# Check shapes\n",
        "print(\"Sampled features shape:\", X_sample.shape)\n",
        "print(\"Sampled labels distribution:\\n\", y_sample.value_counts())\n"
      ],
      "metadata": {
        "colab": {
          "base_uri": "https://localhost:8080/"
        },
        "id": "gS-WOBLpouvB",
        "outputId": "2b8481bf-b11c-45b3-ac59-e1dcaa083c3e"
      },
      "execution_count": null,
      "outputs": [
        {
          "output_type": "stream",
          "name": "stdout",
          "text": [
            "Sampled features shape: (50000, 30)\n",
            "Sampled labels distribution:\n",
            " Class\n",
            "0    25062\n",
            "1    24938\n",
            "Name: count, dtype: int64\n"
          ]
        }
      ]
    },
    {
      "cell_type": "code",
      "source": [
        "from sklearn.model_selection import train_test_split\n",
        "\n",
        "# Split into training and test sets (80/20)\n",
        "X_train, X_test, y_train, y_test = train_test_split(\n",
        "    X_sample, y_sample, test_size=0.2, random_state=42\n",
        ")\n",
        "\n",
        "print(\"Training set size:\", X_train.shape)\n",
        "print(\"Testing set size:\", X_test.shape)\n"
      ],
      "metadata": {
        "colab": {
          "base_uri": "https://localhost:8080/"
        },
        "id": "vw8-dnp5o9Eu",
        "outputId": "4dcca145-7912-4a04-b516-b45f8d36b678"
      },
      "execution_count": null,
      "outputs": [
        {
          "output_type": "stream",
          "name": "stdout",
          "text": [
            "Training set size: (40000, 30)\n",
            "Testing set size: (10000, 30)\n"
          ]
        }
      ]
    },
    {
      "cell_type": "code",
      "source": [
        "from sklearn.ensemble import RandomForestClassifier\n",
        "\n",
        "# Initialize and train the model\n",
        "model = RandomForestClassifier(n_estimators=100, random_state=42)\n",
        "model.fit(X_train, y_train)\n",
        "\n",
        "print(\"✅ Model training completed.\")\n"
      ],
      "metadata": {
        "colab": {
          "base_uri": "https://localhost:8080/"
        },
        "id": "o_fKP4jNpAX6",
        "outputId": "1f7c1b88-b062-42de-9fc0-2709ba978a8b"
      },
      "execution_count": null,
      "outputs": [
        {
          "output_type": "stream",
          "name": "stdout",
          "text": [
            "✅ Model training completed.\n"
          ]
        }
      ]
    },
    {
      "cell_type": "code",
      "source": [
        "# Predict on the test data\n",
        "y_pred = model.predict(X_test)\n",
        "\n",
        "from sklearn.metrics import classification_report\n",
        "\n",
        "# Evaluate the model\n",
        "report = classification_report(y_test, y_pred)\n",
        "print(\"Model Evaluation Report:\\n\")\n",
        "print(report)\n",
        "\n"
      ],
      "metadata": {
        "colab": {
          "base_uri": "https://localhost:8080/"
        },
        "id": "ZTLt-HHTsW_M",
        "outputId": "53f31f05-6719-4a86-9b12-e2c5393e5c89"
      },
      "execution_count": null,
      "outputs": [
        {
          "output_type": "stream",
          "name": "stdout",
          "text": [
            "Model Evaluation Report:\n",
            "\n",
            "              precision    recall  f1-score   support\n",
            "\n",
            "           0       1.00      1.00      1.00      5003\n",
            "           1       1.00      1.00      1.00      4997\n",
            "\n",
            "    accuracy                           1.00     10000\n",
            "   macro avg       1.00      1.00      1.00     10000\n",
            "weighted avg       1.00      1.00      1.00     10000\n",
            "\n"
          ]
        }
      ]
    },
    {
      "cell_type": "code",
      "source": [
        "def predict_fraud(transaction_data, model, feature_columns):\n",
        "    # Convert the dictionary into a DataFrame, ensuring column order matches the training data\n",
        "    transaction_df = pd.DataFrame([transaction_data])\n",
        "\n",
        "    # Ensure all expected columns are present (even with NaN values if missing)\n",
        "    transaction_df = transaction_df.reindex(columns=feature_columns, fill_value=0)\n",
        "\n",
        " # Make prediction\n",
        "    prediction = model.fit(X_train, y_train)\n",
        "\n",
        "    if prediction == 1:\n",
        "        return \"Fraudulent transaction!\"\n",
        "    else:\n",
        "        return \"Legitimate transaction.\"\n",
        "\n",
        "# List of feature names used in the model training\n",
        "feature_columns = ['V1', 'V2', 'V3', 'V4', 'V5', 'V6', 'V7', 'V8', 'V9', 'V10', 'V11', 'V12', 'V13',\n",
        "                   'V14', 'V15', 'V16', 'V17', 'V18', 'V19', 'V20', 'V21', 'V22', 'V23', 'V24', 'V25', 'V26',\n",
        "                   'V27', 'V28', 'Amount', 'Time']\n",
        "\n",
        "# Sample transaction (example)\n",
        "transaction = {\n",
        "    'V1': -0.097, 'V2': 0.233, 'V3': 0.527, 'V4': -0.251, 'V5': 0.312,\n",
        "    'V6': -0.013, 'V7': 0.032, 'V8': -0.119, 'V9': 0.118, 'V10': -0.034,\n",
        "    'V11': 0.033, 'V12': -0.050, 'V13': 0.078, 'V14': -0.016, 'V15': -0.032,\n",
        "    'V16': 0.053, 'V17': 0.040, 'V18': -0.025, 'V19': 0.014, 'V20': -0.022,\n",
        "    'V21': -0.027, 'V22': 0.087, 'V23': 0.035, 'V24': 0.089, 'V25': -0.006,\n",
        "    'V26': -0.087, 'V27': 0.067, 'V28': 0.028, 'Amount': 89.4, 'Time': 3600\n",
        "}\n",
        "\n",
        "# Get prediction\n",
        "print(predict_fraud(transaction, model, feature_columns))\n"
      ],
      "metadata": {
        "colab": {
          "base_uri": "https://localhost:8080/"
        },
        "id": "0C5WQoCys_8C",
        "outputId": "7594d1e8-d924-43d5-8173-db5fc4055381"
      },
      "execution_count": null,
      "outputs": [
        {
          "output_type": "stream",
          "name": "stdout",
          "text": [
            "Legitimate transaction.\n"
          ]
        }
      ]
    }
  ]
}