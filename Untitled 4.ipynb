{
  "nbformat": 4,
  "nbformat_minor": 0,
  "metadata": {
    "colab": {
      "provenance": []
    },
    "kernelspec": {
      "name": "python3",
      "display_name": "Python 3"
    },
    "language_info": {
      "name": "python"
    }
  },
  "cells": [
    {
      "cell_type": "code",
      "execution_count": 1,
      "metadata": {
        "colab": {
          "base_uri": "https://localhost:8080/"
        },
        "id": "Swla4kEualGy",
        "outputId": "13700295-7f94-4134-b850-d4308c07f286"
      },
      "outputs": [
        {
          "output_type": "stream",
          "name": "stdout",
          "text": [
            "Preprocessed Data:\n",
            "        age    salary  gender_Male  education_Masters  education_PhD\n",
            "0 -1.264911 -1.264911         True              False          False\n",
            "1 -0.632456 -0.632456        False               True          False\n",
            "2  0.000000  0.000000        False              False           True\n",
            "3  0.632456  0.632456         True              False          False\n",
            "4  1.264911  1.264911         True               True          False\n"
          ]
        }
      ],
      "source": [
        "import numpy as np\n",
        "import pandas as pd\n",
        "\n",
        "# Sample dataset (replace with your own dataset)\n",
        "data = pd.DataFrame({\n",
        "    'age': [25, 30, 35, 40, 45],\n",
        "    'salary': [50000, 60000, 70000, 80000, 90000],\n",
        "    'gender': ['Male', 'Female', 'Female', 'Male', 'Male'],\n",
        "    'education': ['Bachelors', 'Masters', 'PhD', 'Bachelors', 'Masters']\n",
        "})\n",
        "\n",
        "# Normalize numerical features (age, salary)\n",
        "def normalize_column(col):\n",
        "    return (col - col.mean()) / col.std()\n",
        "\n",
        "# Apply normalization to numerical columns\n",
        "numerical_cols = ['age', 'salary']\n",
        "for col in numerical_cols:\n",
        "    data[col] = normalize_column(data[col])\n",
        "\n",
        "# Preprocess categorical variables (One-hot encoding)\n",
        "data = pd.get_dummies(data, columns=['gender', 'education'], drop_first=True)\n",
        "\n",
        "print(\"Preprocessed Data:\")\n",
        "print(data)\n"
      ]
    },
    {
      "cell_type": "code",
      "source": [
        "import numpy as np\n",
        "import pandas as pd\n",
        "\n",
        "# Sample dataset (replace with your own dataset)\n",
        "data = pd.DataFrame({\n",
        "    'age': [25, 30, 35, 40, 45],\n",
        "    'salary': [50000, 60000, 70000, 80000, 90000],\n",
        "    'gender': ['Male', 'Female', 'Female', 'Male', 'Male'],\n",
        "    'education': ['Bachelors', 'Masters', 'PhD', 'Bachelors', 'Masters']\n",
        "})\n",
        "\n",
        "# Normalize numerical features (age, salary)\n",
        "def normalize_column(col):\n",
        "    return (col - col.mean()) / col.std()\n",
        "\n",
        "# Apply normalization to numerical columns\n",
        "numerical_cols = ['age', 'salary']\n",
        "for col in numerical_cols:\n",
        "    data[col] = normalize_column(data[col])\n",
        "\n",
        "# Preprocess categorical variables (One-hot encoding)\n",
        "data = pd.get_dummies(data, columns=['gender', 'education'], drop_first=True)\n",
        "\n",
        "# Ensure all columns are numeric\n",
        "data = data.apply(pd.to_numeric, errors='coerce')\n",
        "\n",
        "# Prepare dataset\n",
        "X = data.drop(columns=['salary'])  # Features\n",
        "y = data['salary']  # Target\n",
        "\n",
        "# Check for NaN or infinite values in the dataset\n",
        "print(\"Checking for NaN values in X and y:\")\n",
        "print(X.isna().sum())  # NaN in X\n",
        "print(y.isna().sum())  # NaN in y\n",
        "\n",
        "# Drop rows with NaN values\n",
        "X = X.dropna()\n",
        "y = y[X.index]  # Align y with the remaining rows in X\n",
        "\n",
        "# Ensure the data is of float64 type\n",
        "X = X.astype(np.float64)\n",
        "y = y.astype(np.float64)\n",
        "\n",
        "# Linear Regression Model\n",
        "class LinearRegression:\n",
        "    def __init__(self):\n",
        "        self.weights = None\n",
        "\n",
        "    def fit(self, X, y):\n",
        "        # Using Normal Equation: weights = (X^T * X)^-1 * X^T * y\n",
        "        X_b = np.c_[np.ones((X.shape[0], 1)), X]  # Add bias term\n",
        "        self.weights = np.linalg.inv(X_b.T.dot(X_b)).dot(X_b.T).dot(y)\n",
        "\n",
        "    def predict(self, X):\n",
        "        X_b = np.c_[np.ones((X.shape[0], 1)), X]  # Add bias term\n",
        "        return X_b.dot(self.weights)\n",
        "\n",
        "# Train and predict using Linear Regression\n",
        "linear_model = LinearRegression()\n",
        "linear_model.fit(X.values, y.values)\n",
        "y_pred_linear = linear_model.predict(X.values)\n",
        "\n",
        "# Display Predictions\n",
        "print(\"\\nPredictions from Linear Regression:\")\n",
        "print(y_pred_linear)\n",
        "\n"
      ],
      "metadata": {
        "colab": {
          "base_uri": "https://localhost:8080/"
        },
        "id": "yazQ31gIb0_V",
        "outputId": "3c9a4955-46de-44ce-c298-082975244134"
      },
      "execution_count": 2,
      "outputs": [
        {
          "output_type": "stream",
          "name": "stdout",
          "text": [
            "Checking for NaN values in X and y:\n",
            "age                  0\n",
            "gender_Male          0\n",
            "education_Masters    0\n",
            "education_PhD        0\n",
            "dtype: int64\n",
            "0\n",
            "\n",
            "Predictions from Linear Regression:\n",
            "[-1.26491106e+00 -6.32455532e-01  4.57332895e-16  6.32455532e-01\n",
            "  1.26491106e+00]\n"
          ]
        }
      ]
    },
    {
      "cell_type": "code",
      "source": [
        "import numpy as np\n",
        "\n",
        "class DecisionTreeRegressor:\n",
        "    def __init__(self, max_depth=3, min_samples_split=2):\n",
        "        self.max_depth = max_depth\n",
        "        self.min_samples_split = min_samples_split\n",
        "        self.tree = None\n",
        "\n",
        "    def fit(self, X, y):\n",
        "        self.tree = self._build_tree(np.array(X), np.array(y), depth=0)\n",
        "\n",
        "    def _build_tree(self, X, y, depth):\n",
        "        if depth >= self.max_depth or len(y) < self.min_samples_split:\n",
        "            return np.mean(y)\n",
        "\n",
        "        best_feat, best_thresh = self._find_best_split(X, y)\n",
        "        if best_feat is None:\n",
        "            return np.mean(y)\n",
        "\n",
        "        left_idx = X[:, best_feat] < best_thresh\n",
        "        right_idx = ~left_idx\n",
        "\n",
        "        left_tree = self._build_tree(X[left_idx], y[left_idx], depth + 1)\n",
        "        right_tree = self._build_tree(X[right_idx], y[right_idx], depth + 1)\n",
        "\n",
        "        return (best_feat, best_thresh, left_tree, right_tree)\n",
        "\n",
        "    def _find_best_split(self, X, y):\n",
        "        best_feat, best_thresh, best_mse = None, None, float('inf')\n",
        "        for feature_index in range(X.shape[1]):\n",
        "            thresholds = np.unique(X[:, feature_index])\n",
        "            for thresh in thresholds:\n",
        "                left = y[X[:, feature_index] < thresh]\n",
        "                right = y[X[:, feature_index] >= thresh]\n",
        "\n",
        "                if len(left) == 0 or len(right) == 0:\n",
        "                    continue\n",
        "\n",
        "                mse = (np.var(left) * len(left) + np.var(right) * len(right)) / len(y)\n",
        "                if mse < best_mse:\n",
        "                    best_feat = feature_index\n",
        "                    best_thresh = thresh\n",
        "                    best_mse = mse\n",
        "        return best_feat, best_thresh\n",
        "\n",
        "    def _predict_one(self, x, tree):\n",
        "        if not isinstance(tree, tuple):\n",
        "            return tree\n",
        "\n",
        "        feature, threshold, left_tree, right_tree = tree\n",
        "        if x[feature] < threshold:\n",
        "            return self._predict_one(x, left_tree)\n",
        "        else:\n",
        "            return self._predict_one(x, right_tree)\n",
        "\n",
        "    def predict(self, X):\n",
        "        return np.array([self._predict_one(x, self.tree) for x in X])\n",
        "\n"
      ],
      "metadata": {
        "id": "LpmetPiX6eXv"
      },
      "execution_count": 3,
      "outputs": []
    },
    {
      "cell_type": "code",
      "source": [
        "class RandomForestRegressor:\n",
        "    def __init__(self, n_estimators=5, max_depth=3, min_samples_split=2):\n",
        "        self.n_estimators = n_estimators\n",
        "        self.max_depth = max_depth\n",
        "        self.min_samples_split = min_samples_split\n",
        "        self.trees = []\n",
        "\n",
        "    def fit(self, X, y):\n",
        "        self.trees = []\n",
        "        for _ in range(self.n_estimators):\n",
        "            # Bootstrap sampling\n",
        "            indices = np.random.choice(len(X), len(X), replace=True)\n",
        "            X_sample = X[indices]\n",
        "            y_sample = y[indices]\n",
        "\n",
        "            tree = DecisionTreeRegressor(max_depth=self.max_depth,\n",
        "                                         min_samples_split=self.min_samples_split)\n",
        "            tree.fit(X_sample, y_sample)\n",
        "            self.trees.append(tree)\n",
        "\n",
        "    def predict(self, X):\n",
        "        preds = np.array([tree.predict(X) for tree in self.trees])\n",
        "        return np.mean(preds, axis=0)\n"
      ],
      "metadata": {
        "id": "-hFi5TQ281tU"
      },
      "execution_count": 4,
      "outputs": []
    },
    {
      "cell_type": "code",
      "source": [
        "from sklearn.metrics import mean_squared_error, r2_score\n",
        "\n",
        "# Convert X and y to numpy arrays\n",
        "X_np = X.values\n",
        "y_np = y.values\n",
        "\n",
        "# Train Random Forest\n",
        "rf_model = RandomForestRegressor(n_estimators=5, max_depth=4)\n",
        "rf_model.fit(X_np, y_np)\n",
        "y_pred_rf = rf_model.predict(X_np)\n",
        "\n",
        "# Evaluation\n",
        "rmse_rf = np.sqrt(mean_squared_error(y_np, y_pred_rf))\n",
        "r2_rf = r2_score(y_np, y_pred_rf)\n",
        "\n",
        "print(\"Random Forest Predictions:\", y_pred_rf)\n",
        "print(\"Random Forest RMSE:\", rmse_rf)\n",
        "print(\"Random Forest R² Score:\", r2_rf)\n"
      ],
      "metadata": {
        "colab": {
          "base_uri": "https://localhost:8080/"
        },
        "id": "t3Yf-c82838A",
        "outputId": "f265d193-117d-4484-bb5d-c985af4bb864"
      },
      "execution_count": 5,
      "outputs": [
        {
          "output_type": "stream",
          "name": "stdout",
          "text": [
            "Random Forest Predictions: [-1.26491106 -1.01192885 -0.12649111  0.37947332  1.13841996]\n",
            "Random Forest RMSE: 0.2190890230020664\n",
            "Random Forest R² Score: 0.9400000000000001\n"
          ]
        }
      ]
    },
    {
      "cell_type": "code",
      "source": [
        "class XGBoostRegressor:\n",
        "    def __init__(self, n_estimators=10, learning_rate=0.1, max_depth=3):\n",
        "        self.n_estimators = n_estimators\n",
        "        self.learning_rate = learning_rate\n",
        "        self.max_depth = max_depth\n",
        "        self.trees = []\n",
        "\n",
        "    def fit(self, X, y):\n",
        "        X = np.array(X)\n",
        "        y = np.array(y)\n",
        "        y_pred = np.zeros_like(y)\n",
        "        self.trees = []\n",
        "\n",
        "        for i in range(self.n_estimators):\n",
        "            # Compute residuals\n",
        "            residuals = y - y_pred\n",
        "\n",
        "            # Fit a tree to residuals\n",
        "            tree = DecisionTreeRegressor(max_depth=self.max_depth)\n",
        "            tree.fit(X, residuals)\n",
        "            self.trees.append(tree)\n",
        "\n",
        "            # Update predictions\n",
        "            update = self.learning_rate * tree.predict(X)\n",
        "            y_pred += update\n",
        "\n",
        "    def predict(self, X):\n",
        "        X = np.array(X)\n",
        "        y_pred = np.zeros(X.shape[0])\n",
        "\n",
        "        for tree in self.trees:\n",
        "            y_pred += self.learning_rate * tree.predict(X)\n",
        "        return y_pred\n"
      ],
      "metadata": {
        "id": "NPNWe3iM79SO"
      },
      "execution_count": 6,
      "outputs": []
    },
    {
      "cell_type": "code",
      "source": [
        "# Train XGBoost\n",
        "xgb = XGBoostRegressor(n_estimators=10, learning_rate=0.1, max_depth=3)\n",
        "xgb.fit(X_np, y_np)\n",
        "y_pred_xgb = xgb.predict(X_np)\n",
        "\n",
        "# Evaluation\n",
        "rmse_xgb = np.sqrt(mean_squared_error(y_np, y_pred_xgb))\n",
        "r2_xgb = r2_score(y_np, y_pred_xgb)\n",
        "\n",
        "print(\"XGBoost Predictions:\", y_pred_xgb)\n",
        "print(\"XGBoost RMSE:\", rmse_xgb)\n",
        "print(\"XGBoost R² Score:\", r2_xgb)\n"
      ],
      "metadata": {
        "colab": {
          "base_uri": "https://localhost:8080/"
        },
        "id": "tOBWWWvT7_5l",
        "outputId": "a6a71c16-e23c-499d-f28d-87f0c04a87a5"
      },
      "execution_count": 7,
      "outputs": [
        {
          "output_type": "stream",
          "name": "stdout",
          "text": [
            "XGBoost Predictions: [-0.82386385 -0.41193192  0.          0.41193192  0.82386385]\n",
            "XGBoost RMSE: 0.3118674777408755\n",
            "XGBoost R² Score: 0.8784233454094307\n"
          ]
        }
      ]
    },
    {
      "cell_type": "code",
      "source": [
        "import matplotlib.pyplot as plt\n",
        "import numpy as np\n",
        "\n",
        "def compute_feature_importance(forest, n_features):\n",
        "    importances = np.zeros(n_features)\n",
        "\n",
        "    # Recursive function to extract importance from a single tree\n",
        "    def traverse(tree, importance_array):\n",
        "        if not isinstance(tree, tuple):\n",
        "            return\n",
        "        feature, threshold, left, right = tree\n",
        "        importance_array[feature] += 1\n",
        "        traverse(left, importance_array)\n",
        "        traverse(right, importance_array)\n",
        "\n",
        "    # Sum importance from all trees\n",
        "    for tree in forest.trees:\n",
        "        traverse(tree.tree, importances)\n",
        "\n",
        "    # Normalize\n",
        "    importances = importances / importances.sum()\n",
        "    return importances\n",
        "\n",
        "# Compute importances\n",
        "n_features = X_np.shape[1]\n",
        "importances = compute_feature_importance(rf_model, n_features)\n",
        "\n",
        "# Plotting\n",
        "plt.figure(figsize=(8, 5))\n",
        "plt.bar(range(n_features), importances, tick_label=[f'Feature {i}' for i in range(n_features)])\n",
        "plt.title('Feature Importance - Random Forest')\n",
        "plt.xlabel('Feature Index')\n",
        "plt.ylabel('Importance')\n",
        "plt.grid(True)\n",
        "plt.show()\n"
      ],
      "metadata": {
        "colab": {
          "base_uri": "https://localhost:8080/",
          "height": 487
        },
        "id": "8sa4nnjVAdmB",
        "outputId": "cf19b83f-a729-43fb-ea39-3bec35ccdbe4"
      },
      "execution_count": 8,
      "outputs": [
        {
          "output_type": "display_data",
          "data": {
            "text/plain": [
              "<Figure size 800x500 with 1 Axes>"
            ],
            "image/png": "[encoded data removed]"
          },
          "metadata": {}
        }
      ]
    }
  ]
}